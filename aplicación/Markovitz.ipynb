{
 "cells": [
  {
   "cell_type": "code",
   "execution_count": 5,
   "metadata": {},
   "outputs": [],
   "source": [
    "import numpy as np\n",
    "import yfinance as yf\n",
    "import pandas as pd\n",
    "from math import sqrt\n",
    "import tasa_vasicek as tv\n",
    "from numpy.linalg import inv "
   ]
  },
  {
   "cell_type": "code",
   "execution_count": 7,
   "metadata": {},
   "outputs": [],
   "source": [
    "empresas=pd.read_excel('data_final.xlsx')"
   ]
  },
  {
   "cell_type": "code",
   "execution_count": 8,
   "metadata": {},
   "outputs": [],
   "source": [
    "symbols=empresas['symbol']"
   ]
  },
  {
   "cell_type": "code",
   "execution_count": 84,
   "metadata": {},
   "outputs": [],
   "source": [
    "class portfolio:\n",
    "    def __init__(self,symbols):\n",
    "        self.symbs=sorted(symbols)\n",
    "    @property\n",
    "    def Close(self):\n",
    "        data=yf.download(tickers=self.symbs, start='2019-6-1',progress=0).Close\n",
    "        data=data.dropna(axis=0)\n",
    "        return data   \n",
    "    @property\n",
    "    def matriz_rendimientos(self):\n",
    "        def rendimiento(comp): return np.diff(np.log(comp)) # return [log(comp[i]/comp[i-1]) for i in range(1,len(comp))]\n",
    "        df_rend=self.Close.apply(rendimiento,axis=0)\n",
    "        return df_rend\n",
    "    @property\n",
    "    def rend_volt_anual(self):\n",
    "        rendimientos=self.matriz_rendimientos\n",
    "        medias=list(rendimientos.mean()*252)\n",
    "        varianzas=list(rendimientos.std()*sqrt(len(rendimientos)*252/(len(rendimientos)+1)))\n",
    "        return medias,varianzas\n",
    "    @property\n",
    "    def MVC(self):\n",
    "        medias,varianzas=self.rend_volt_anual\n",
    "        Matriz_Si=[[0]*len(varianzas) for i in range(len(varianzas))]\n",
    "        for i,s_i in zip(range(len(Matriz_Si)),range(len(varianzas))):\n",
    "                Matriz_Si[i][s_i]=varianzas[s_i]\n",
    "        Matriz_Si=np.array(Matriz_Si)\n",
    "        Matrizcorr=self.Close.corr()\n",
    "        Matrizcorr=np.array(Matrizcorr)\n",
    "        return Matriz_Si@Matrizcorr@Matriz_Si.T\n",
    "    @property\n",
    "    def portafolios(self):\n",
    "        n=len(self.symbs)\n",
    "        mvc=self.MVC\n",
    "        Eri=self.rend_volt_anual[0]\n",
    "        Vector_B=np.array([0]*n+[1]).reshape(n+1,1)\n",
    "        def sigmaW(Port): return sqrt(Port@mvc@Port.T)\n",
    "        def rendW(Porc_w): return sum([p*r for p,r in zip(Eri,Porc_w)])\n",
    "        mvca=np.array([list(x)+[1] for x in mvc]+[[1]*n+[0]])\n",
    "        mvca_inv=inv(mvca)\n",
    "        w=mvca_inv@Vector_B\n",
    "        w=np.abs(w[:-1])\n",
    "        w=w/sum(w)\n",
    "        return rendW(w)"
   ]
  },
  {
   "cell_type": "raw",
   "metadata": {},
   "source": [
    "#         portfolios=np.random.random((10_000,len(self.symbs)))\n",
    "#         porcentajes=[x/sum(x) for x in portfolios]\n",
    "#         y=[sigmaW(x) for x in porcentajes]\n",
    "#         b,m,a=np.quantile(y,(0.25,0.5,0.75))\n",
    "#         porcentajes_portafolios={}\n",
    "#         def clustering_portfolio(p):\n",
    "#             return \"b\" if p<=b else \"m\" if p<=m else \"a\"        \n",
    "#         clasif=list(map(clustering_portfolio,y))\n",
    "#         rendimiento=list(map(rendW,porcentajes))\n",
    "#         return pd.DataFrame([(p,c,r,v) for p,c,r,v in \n",
    "#                         zip(porcentajes,clasif,rendimiento,y)],\n",
    "#         columns=[\"Portafolio\",'Clasificación','Rendimiento','Volatilidad'])                            "
   ]
  },
  {
   "cell_type": "code",
   "execution_count": 85,
   "metadata": {},
   "outputs": [],
   "source": [
    "my_portfolio=portfolio(list(symbols[:20]))"
   ]
  },
  {
   "cell_type": "code",
   "execution_count": 86,
   "metadata": {},
   "outputs": [
    {
     "data": {
      "text/plain": [
       "array([0.9549903])"
      ]
     },
     "execution_count": 86,
     "metadata": {},
     "output_type": "execute_result"
    }
   ],
   "source": [
    "my_portfolio.portafolios"
   ]
  },
  {
   "cell_type": "code",
   "execution_count": 8,
   "metadata": {},
   "outputs": [],
   "source": [
    "mvc=my_portfolio.MVC"
   ]
  },
  {
   "cell_type": "code",
   "execution_count": 10,
   "metadata": {},
   "outputs": [],
   "source": [
    "Vector_B=np.array([0]*20+[1]).reshape(21,1)\n"
   ]
  },
  {
   "cell_type": "code",
   "execution_count": 19,
   "metadata": {},
   "outputs": [
    {
     "data": {
      "text/plain": [
       "array([[1, 2],\n",
       "       [3, 4],\n",
       "       [5, 6]])"
      ]
     },
     "execution_count": 19,
     "metadata": {},
     "output_type": "execute_result"
    }
   ],
   "source": [
    "x=np.array([[1,2],[3,4]])\n",
    "np.append(x,[5,6]).reshape(3,2)"
   ]
  },
  {
   "cell_type": "code",
   "execution_count": 29,
   "metadata": {},
   "outputs": [],
   "source": [
    "mvca=np.array([list(x)+[1] for x in mvc]+[[1]*20+[0]])"
   ]
  },
  {
   "cell_type": "code",
   "execution_count": 30,
   "metadata": {},
   "outputs": [],
   "source": [
    "mvca_inv=np.linalg.inv(mvca)"
   ]
  },
  {
   "cell_type": "code",
   "execution_count": 31,
   "metadata": {},
   "outputs": [],
   "source": [
    "W_min_riesgo=mvca_inv@Vector_B\n"
   ]
  },
  {
   "cell_type": "code",
   "execution_count": 50,
   "metadata": {},
   "outputs": [],
   "source": [
    "p=W_min_riesgo[:-1]"
   ]
  },
  {
   "cell_type": "code",
   "execution_count": 54,
   "metadata": {},
   "outputs": [],
   "source": [
    "p=p.reshape(1,20)"
   ]
  },
  {
   "cell_type": "code",
   "execution_count": 43,
   "metadata": {},
   "outputs": [],
   "source": [
    "e=my_portfolio.rend_volt_anual[0]"
   ]
  },
  {
   "cell_type": "code",
   "execution_count": 38,
   "metadata": {},
   "outputs": [],
   "source": [
    "l=np.abs(p)/sum(np.abs(p))"
   ]
  },
  {
   "cell_type": "code",
   "execution_count": 68,
   "metadata": {},
   "outputs": [],
   "source": [
    "l=l.reshape(1,20)[0]"
   ]
  },
  {
   "cell_type": "code",
   "execution_count": 69,
   "metadata": {},
   "outputs": [
    {
     "data": {
      "text/plain": [
       "array([0.01310811, 0.02136327, 0.07505094, 0.10066247, 0.02120561,\n",
       "       0.11329923, 0.05255793, 0.08431731, 0.07166539, 0.02363396,\n",
       "       0.17170028, 0.0566971 , 0.0563375 , 0.01314865, 0.03095874,\n",
       "       0.01980955, 0.00646578, 0.02285899, 0.01403581, 0.03112339])"
      ]
     },
     "execution_count": 69,
     "metadata": {},
     "output_type": "execute_result"
    }
   ],
   "source": [
    "l"
   ]
  },
  {
   "cell_type": "code",
   "execution_count": 70,
   "metadata": {},
   "outputs": [
    {
     "data": {
      "text/plain": [
       "(-0.07836678693113862, 0.16375192856999735)"
      ]
     },
     "execution_count": 70,
     "metadata": {},
     "output_type": "execute_result"
    }
   ],
   "source": [
    "sum(p[0]*np.array(e)),sum(l*np.array(e))\n"
   ]
  },
  {
   "cell_type": "code",
   "execution_count": 58,
   "metadata": {},
   "outputs": [
    {
     "data": {
      "text/plain": [
       "array([ 0.02645992,  0.00298319, -0.03996887,  0.0775007 ,  0.01723447,\n",
       "       -0.1163991 , -0.02379139,  0.03316278, -0.03895454, -0.01608262,\n",
       "        0.20155748, -0.14819788,  0.02998049, -0.0044507 , -0.14010715,\n",
       "        0.02598806,  0.00834786,  0.01076771, -0.00925961,  0.02486243])"
      ]
     },
     "execution_count": 58,
     "metadata": {},
     "output_type": "execute_result"
    }
   ],
   "source": [
    "# ,sum((np.array(e)*np.array(l)))"
   ]
  },
  {
   "cell_type": "code",
   "execution_count": 39,
   "metadata": {},
   "outputs": [
    {
     "data": {
      "text/plain": [
       "array([1.])"
      ]
     },
     "execution_count": 39,
     "metadata": {},
     "output_type": "execute_result"
    }
   ],
   "source": [
    "sum(l)"
   ]
  },
  {
   "cell_type": "code",
   "execution_count": 15,
   "metadata": {},
   "outputs": [],
   "source": [
    "df_portafolios=my_portfolio.portafolios"
   ]
  },
  {
   "cell_type": "code",
   "execution_count": null,
   "metadata": {},
   "outputs": [],
   "source": []
  },
  {
   "cell_type": "code",
   "execution_count": 16,
   "metadata": {},
   "outputs": [
    {
     "data": {
      "text/html": [
       "<div>\n",
       "<style scoped>\n",
       "    .dataframe tbody tr th:only-of-type {\n",
       "        vertical-align: middle;\n",
       "    }\n",
       "\n",
       "    .dataframe tbody tr th {\n",
       "        vertical-align: top;\n",
       "    }\n",
       "\n",
       "    .dataframe thead th {\n",
       "        text-align: right;\n",
       "    }\n",
       "</style>\n",
       "<table border=\"1\" class=\"dataframe\">\n",
       "  <thead>\n",
       "    <tr style=\"text-align: right;\">\n",
       "      <th></th>\n",
       "      <th>Portafolio</th>\n",
       "      <th>Clasificación</th>\n",
       "      <th>Rendimiento</th>\n",
       "      <th>Volatilidad</th>\n",
       "    </tr>\n",
       "  </thead>\n",
       "  <tbody>\n",
       "    <tr>\n",
       "      <th>7497</th>\n",
       "      <td>[0.01636449215493735, 0.03462611702561387, 0.0...</td>\n",
       "      <td>b</td>\n",
       "      <td>0.111346</td>\n",
       "      <td>0.215590</td>\n",
       "    </tr>\n",
       "    <tr>\n",
       "      <th>1600</th>\n",
       "      <td>[0.0924074250417687, 0.008059475143097844, 0.0...</td>\n",
       "      <td>b</td>\n",
       "      <td>0.126666</td>\n",
       "      <td>0.216290</td>\n",
       "    </tr>\n",
       "    <tr>\n",
       "      <th>2798</th>\n",
       "      <td>[0.06876170455923271, 0.006205635821710601, 0....</td>\n",
       "      <td>b</td>\n",
       "      <td>0.123257</td>\n",
       "      <td>0.216403</td>\n",
       "    </tr>\n",
       "    <tr>\n",
       "      <th>1270</th>\n",
       "      <td>[0.033264306336596584, 0.03833427135181946, 0....</td>\n",
       "      <td>b</td>\n",
       "      <td>0.106618</td>\n",
       "      <td>0.216695</td>\n",
       "    </tr>\n",
       "    <tr>\n",
       "      <th>1019</th>\n",
       "      <td>[0.03207209656760786, 0.011656040961225331, 0....</td>\n",
       "      <td>b</td>\n",
       "      <td>0.117701</td>\n",
       "      <td>0.217149</td>\n",
       "    </tr>\n",
       "    <tr>\n",
       "      <th>...</th>\n",
       "      <td>...</td>\n",
       "      <td>...</td>\n",
       "      <td>...</td>\n",
       "      <td>...</td>\n",
       "    </tr>\n",
       "    <tr>\n",
       "      <th>7513</th>\n",
       "      <td>[0.02281759007933998, 0.0587900200392756, 0.02...</td>\n",
       "      <td>b</td>\n",
       "      <td>0.174667</td>\n",
       "      <td>0.251886</td>\n",
       "    </tr>\n",
       "    <tr>\n",
       "      <th>6939</th>\n",
       "      <td>[0.09073378641334946, 0.05545004861983039, 0.0...</td>\n",
       "      <td>b</td>\n",
       "      <td>0.162787</td>\n",
       "      <td>0.251897</td>\n",
       "    </tr>\n",
       "    <tr>\n",
       "      <th>576</th>\n",
       "      <td>[0.07584955267884737, 0.04649447879564567, 0.0...</td>\n",
       "      <td>b</td>\n",
       "      <td>0.157958</td>\n",
       "      <td>0.251899</td>\n",
       "    </tr>\n",
       "    <tr>\n",
       "      <th>9742</th>\n",
       "      <td>[0.029616169421359428, 0.06157189762476549, 0....</td>\n",
       "      <td>b</td>\n",
       "      <td>0.161270</td>\n",
       "      <td>0.251907</td>\n",
       "    </tr>\n",
       "    <tr>\n",
       "      <th>5529</th>\n",
       "      <td>[0.0013355066464057496, 0.04478130511134473, 0...</td>\n",
       "      <td>b</td>\n",
       "      <td>0.137753</td>\n",
       "      <td>0.251911</td>\n",
       "    </tr>\n",
       "  </tbody>\n",
       "</table>\n",
       "<p>2500 rows × 4 columns</p>\n",
       "</div>"
      ],
      "text/plain": [
       "                                             Portafolio Clasificación  \\\n",
       "7497  [0.01636449215493735, 0.03462611702561387, 0.0...             b   \n",
       "1600  [0.0924074250417687, 0.008059475143097844, 0.0...             b   \n",
       "2798  [0.06876170455923271, 0.006205635821710601, 0....             b   \n",
       "1270  [0.033264306336596584, 0.03833427135181946, 0....             b   \n",
       "1019  [0.03207209656760786, 0.011656040961225331, 0....             b   \n",
       "...                                                 ...           ...   \n",
       "7513  [0.02281759007933998, 0.0587900200392756, 0.02...             b   \n",
       "6939  [0.09073378641334946, 0.05545004861983039, 0.0...             b   \n",
       "576   [0.07584955267884737, 0.04649447879564567, 0.0...             b   \n",
       "9742  [0.029616169421359428, 0.06157189762476549, 0....             b   \n",
       "5529  [0.0013355066464057496, 0.04478130511134473, 0...             b   \n",
       "\n",
       "      Rendimiento  Volatilidad  \n",
       "7497     0.111346     0.215590  \n",
       "1600     0.126666     0.216290  \n",
       "2798     0.123257     0.216403  \n",
       "1270     0.106618     0.216695  \n",
       "1019     0.117701     0.217149  \n",
       "...           ...          ...  \n",
       "7513     0.174667     0.251886  \n",
       "6939     0.162787     0.251897  \n",
       "576      0.157958     0.251899  \n",
       "9742     0.161270     0.251907  \n",
       "5529     0.137753     0.251911  \n",
       "\n",
       "[2500 rows x 4 columns]"
      ]
     },
     "execution_count": 16,
     "metadata": {},
     "output_type": "execute_result"
    }
   ],
   "source": [
    "df_portafolios[df_portafolios['Clasificación']=='b'].sort_values('Volatilidad')"
   ]
  },
  {
   "cell_type": "code",
   "execution_count": 17,
   "metadata": {},
   "outputs": [
    {
     "data": {
      "text/html": [
       "<div>\n",
       "<style scoped>\n",
       "    .dataframe tbody tr th:only-of-type {\n",
       "        vertical-align: middle;\n",
       "    }\n",
       "\n",
       "    .dataframe tbody tr th {\n",
       "        vertical-align: top;\n",
       "    }\n",
       "\n",
       "    .dataframe thead th {\n",
       "        text-align: right;\n",
       "    }\n",
       "</style>\n",
       "<table border=\"1\" class=\"dataframe\">\n",
       "  <thead>\n",
       "    <tr style=\"text-align: right;\">\n",
       "      <th></th>\n",
       "      <th>Portafolio</th>\n",
       "      <th>Clasificación</th>\n",
       "      <th>Rendimiento</th>\n",
       "      <th>Volatilidad</th>\n",
       "    </tr>\n",
       "  </thead>\n",
       "  <tbody>\n",
       "    <tr>\n",
       "      <th>3085</th>\n",
       "      <td>[0.00028031359902935983, 0.09121857599271713, ...</td>\n",
       "      <td>m</td>\n",
       "      <td>0.148172</td>\n",
       "      <td>0.251912</td>\n",
       "    </tr>\n",
       "    <tr>\n",
       "      <th>3676</th>\n",
       "      <td>[0.04622630488868083, 0.07367644008334372, 0.0...</td>\n",
       "      <td>m</td>\n",
       "      <td>0.159496</td>\n",
       "      <td>0.251922</td>\n",
       "    </tr>\n",
       "    <tr>\n",
       "      <th>2509</th>\n",
       "      <td>[0.015996279216208976, 0.09870834995837743, 0....</td>\n",
       "      <td>m</td>\n",
       "      <td>0.145955</td>\n",
       "      <td>0.251922</td>\n",
       "    </tr>\n",
       "    <tr>\n",
       "      <th>6623</th>\n",
       "      <td>[0.06283972547557835, 0.0748429343767748, 0.08...</td>\n",
       "      <td>m</td>\n",
       "      <td>0.158915</td>\n",
       "      <td>0.251931</td>\n",
       "    </tr>\n",
       "    <tr>\n",
       "      <th>5746</th>\n",
       "      <td>[0.02272565396198686, 0.0788810150554787, 0.08...</td>\n",
       "      <td>m</td>\n",
       "      <td>0.118779</td>\n",
       "      <td>0.251937</td>\n",
       "    </tr>\n",
       "    <tr>\n",
       "      <th>...</th>\n",
       "      <td>...</td>\n",
       "      <td>...</td>\n",
       "      <td>...</td>\n",
       "      <td>...</td>\n",
       "    </tr>\n",
       "    <tr>\n",
       "      <th>6181</th>\n",
       "      <td>[0.010067680744654322, 0.04813185301234674, 0....</td>\n",
       "      <td>m</td>\n",
       "      <td>0.152333</td>\n",
       "      <td>0.262744</td>\n",
       "    </tr>\n",
       "    <tr>\n",
       "      <th>9814</th>\n",
       "      <td>[0.05068916019058499, 0.10276402359459143, 0.0...</td>\n",
       "      <td>m</td>\n",
       "      <td>0.160571</td>\n",
       "      <td>0.262748</td>\n",
       "    </tr>\n",
       "    <tr>\n",
       "      <th>3491</th>\n",
       "      <td>[0.04758143430557668, 0.07156718824309267, 0.0...</td>\n",
       "      <td>m</td>\n",
       "      <td>0.154565</td>\n",
       "      <td>0.262753</td>\n",
       "    </tr>\n",
       "    <tr>\n",
       "      <th>2423</th>\n",
       "      <td>[0.03603075026196364, 0.05860980964725143, 0.0...</td>\n",
       "      <td>m</td>\n",
       "      <td>0.156975</td>\n",
       "      <td>0.262755</td>\n",
       "    </tr>\n",
       "    <tr>\n",
       "      <th>7227</th>\n",
       "      <td>[0.02766594513437346, 0.01719042687360879, 0.1...</td>\n",
       "      <td>m</td>\n",
       "      <td>0.176388</td>\n",
       "      <td>0.262760</td>\n",
       "    </tr>\n",
       "  </tbody>\n",
       "</table>\n",
       "<p>2500 rows × 4 columns</p>\n",
       "</div>"
      ],
      "text/plain": [
       "                                             Portafolio Clasificación  \\\n",
       "3085  [0.00028031359902935983, 0.09121857599271713, ...             m   \n",
       "3676  [0.04622630488868083, 0.07367644008334372, 0.0...             m   \n",
       "2509  [0.015996279216208976, 0.09870834995837743, 0....             m   \n",
       "6623  [0.06283972547557835, 0.0748429343767748, 0.08...             m   \n",
       "5746  [0.02272565396198686, 0.0788810150554787, 0.08...             m   \n",
       "...                                                 ...           ...   \n",
       "6181  [0.010067680744654322, 0.04813185301234674, 0....             m   \n",
       "9814  [0.05068916019058499, 0.10276402359459143, 0.0...             m   \n",
       "3491  [0.04758143430557668, 0.07156718824309267, 0.0...             m   \n",
       "2423  [0.03603075026196364, 0.05860980964725143, 0.0...             m   \n",
       "7227  [0.02766594513437346, 0.01719042687360879, 0.1...             m   \n",
       "\n",
       "      Rendimiento  Volatilidad  \n",
       "3085     0.148172     0.251912  \n",
       "3676     0.159496     0.251922  \n",
       "2509     0.145955     0.251922  \n",
       "6623     0.158915     0.251931  \n",
       "5746     0.118779     0.251937  \n",
       "...           ...          ...  \n",
       "6181     0.152333     0.262744  \n",
       "9814     0.160571     0.262748  \n",
       "3491     0.154565     0.262753  \n",
       "2423     0.156975     0.262755  \n",
       "7227     0.176388     0.262760  \n",
       "\n",
       "[2500 rows x 4 columns]"
      ]
     },
     "execution_count": 17,
     "metadata": {},
     "output_type": "execute_result"
    }
   ],
   "source": [
    "df_portafolios[df_portafolios['Clasificación']=='m'].sort_values('Volatilidad')"
   ]
  },
  {
   "cell_type": "code",
   "execution_count": 18,
   "metadata": {},
   "outputs": [
    {
     "data": {
      "text/html": [
       "<div>\n",
       "<style scoped>\n",
       "    .dataframe tbody tr th:only-of-type {\n",
       "        vertical-align: middle;\n",
       "    }\n",
       "\n",
       "    .dataframe tbody tr th {\n",
       "        vertical-align: top;\n",
       "    }\n",
       "\n",
       "    .dataframe thead th {\n",
       "        text-align: right;\n",
       "    }\n",
       "</style>\n",
       "<table border=\"1\" class=\"dataframe\">\n",
       "  <thead>\n",
       "    <tr style=\"text-align: right;\">\n",
       "      <th></th>\n",
       "      <th>Portafolio</th>\n",
       "      <th>Clasificación</th>\n",
       "      <th>Rendimiento</th>\n",
       "      <th>Volatilidad</th>\n",
       "    </tr>\n",
       "  </thead>\n",
       "  <tbody>\n",
       "    <tr>\n",
       "      <th>5464</th>\n",
       "      <td>[0.04162764664885956, 0.05859972759456969, 0.0...</td>\n",
       "      <td>a</td>\n",
       "      <td>0.162135</td>\n",
       "      <td>0.262761</td>\n",
       "    </tr>\n",
       "    <tr>\n",
       "      <th>9534</th>\n",
       "      <td>[0.038324169439799535, 0.029347455468162868, 0...</td>\n",
       "      <td>a</td>\n",
       "      <td>0.159075</td>\n",
       "      <td>0.262768</td>\n",
       "    </tr>\n",
       "    <tr>\n",
       "      <th>9827</th>\n",
       "      <td>[0.06670463919390754, 0.07614846849608176, 0.0...</td>\n",
       "      <td>a</td>\n",
       "      <td>0.168613</td>\n",
       "      <td>0.262771</td>\n",
       "    </tr>\n",
       "    <tr>\n",
       "      <th>7441</th>\n",
       "      <td>[0.02081029449913557, 0.057042047968330234, 0....</td>\n",
       "      <td>a</td>\n",
       "      <td>0.118351</td>\n",
       "      <td>0.262775</td>\n",
       "    </tr>\n",
       "    <tr>\n",
       "      <th>8780</th>\n",
       "      <td>[0.008939673507268328, 2.38085999157185e-06, 0...</td>\n",
       "      <td>a</td>\n",
       "      <td>0.166422</td>\n",
       "      <td>0.262796</td>\n",
       "    </tr>\n",
       "    <tr>\n",
       "      <th>...</th>\n",
       "      <td>...</td>\n",
       "      <td>...</td>\n",
       "      <td>...</td>\n",
       "      <td>...</td>\n",
       "    </tr>\n",
       "    <tr>\n",
       "      <th>5626</th>\n",
       "      <td>[0.08108878691206392, 0.003236659360369082, 0....</td>\n",
       "      <td>a</td>\n",
       "      <td>0.212012</td>\n",
       "      <td>0.316541</td>\n",
       "    </tr>\n",
       "    <tr>\n",
       "      <th>9003</th>\n",
       "      <td>[0.07646390456045297, 0.040982878273216894, 0....</td>\n",
       "      <td>a</td>\n",
       "      <td>0.200602</td>\n",
       "      <td>0.317031</td>\n",
       "    </tr>\n",
       "    <tr>\n",
       "      <th>2639</th>\n",
       "      <td>[0.010552448213359482, 0.012692977688260752, 0...</td>\n",
       "      <td>a</td>\n",
       "      <td>0.216440</td>\n",
       "      <td>0.317336</td>\n",
       "    </tr>\n",
       "    <tr>\n",
       "      <th>3181</th>\n",
       "      <td>[0.11050772995186438, 0.07202387067047243, 0.0...</td>\n",
       "      <td>a</td>\n",
       "      <td>0.239632</td>\n",
       "      <td>0.321420</td>\n",
       "    </tr>\n",
       "    <tr>\n",
       "      <th>144</th>\n",
       "      <td>[0.04615820411466842, 0.05716551091339014, 0.0...</td>\n",
       "      <td>a</td>\n",
       "      <td>0.221600</td>\n",
       "      <td>0.330948</td>\n",
       "    </tr>\n",
       "  </tbody>\n",
       "</table>\n",
       "<p>5000 rows × 4 columns</p>\n",
       "</div>"
      ],
      "text/plain": [
       "                                             Portafolio Clasificación  \\\n",
       "5464  [0.04162764664885956, 0.05859972759456969, 0.0...             a   \n",
       "9534  [0.038324169439799535, 0.029347455468162868, 0...             a   \n",
       "9827  [0.06670463919390754, 0.07614846849608176, 0.0...             a   \n",
       "7441  [0.02081029449913557, 0.057042047968330234, 0....             a   \n",
       "8780  [0.008939673507268328, 2.38085999157185e-06, 0...             a   \n",
       "...                                                 ...           ...   \n",
       "5626  [0.08108878691206392, 0.003236659360369082, 0....             a   \n",
       "9003  [0.07646390456045297, 0.040982878273216894, 0....             a   \n",
       "2639  [0.010552448213359482, 0.012692977688260752, 0...             a   \n",
       "3181  [0.11050772995186438, 0.07202387067047243, 0.0...             a   \n",
       "144   [0.04615820411466842, 0.05716551091339014, 0.0...             a   \n",
       "\n",
       "      Rendimiento  Volatilidad  \n",
       "5464     0.162135     0.262761  \n",
       "9534     0.159075     0.262768  \n",
       "9827     0.168613     0.262771  \n",
       "7441     0.118351     0.262775  \n",
       "8780     0.166422     0.262796  \n",
       "...           ...          ...  \n",
       "5626     0.212012     0.316541  \n",
       "9003     0.200602     0.317031  \n",
       "2639     0.216440     0.317336  \n",
       "3181     0.239632     0.321420  \n",
       "144      0.221600     0.330948  \n",
       "\n",
       "[5000 rows x 4 columns]"
      ]
     },
     "execution_count": 18,
     "metadata": {},
     "output_type": "execute_result"
    }
   ],
   "source": [
    "df_portafolios[df_portafolios['Clasificación']=='a'].sort_values('Volatilidad')"
   ]
  },
  {
   "cell_type": "code",
   "execution_count": 37,
   "metadata": {},
   "outputs": [],
   "source": [
    "cetes_28=tv.cetes_28.iloc[-1]"
   ]
  },
  {
   "cell_type": "code",
   "execution_count": 45,
   "metadata": {},
   "outputs": [],
   "source": [
    "port_ejemplo=df_portafolios.iloc[144]['Portafolio']"
   ]
  },
  {
   "cell_type": "code",
   "execution_count": 35,
   "metadata": {},
   "outputs": [
    {
     "data": {
      "text/plain": [
       "array([ 0.35210708,  0.02605035,  0.08954605,  0.12752321,  0.13967634,\n",
       "        0.17927431,  0.077796  ,  0.06672485,  0.09341664, -0.11429261,\n",
       "        0.2012678 ,  0.45274816,  0.09145696, -0.05817324,  0.77849654,\n",
       "        0.22998282,  0.22188595,  0.07469058,  0.11328145,  0.13532874])"
      ]
     },
     "execution_count": 35,
     "metadata": {},
     "output_type": "execute_result"
    }
   ],
   "source": [
    "rend_empresas=np.array(my_portfolio.rend_volt_anual[0])\n",
    "rend_empresas"
   ]
  },
  {
   "cell_type": "code",
   "execution_count": 71,
   "metadata": {},
   "outputs": [],
   "source": [
    "rend_exceso=rend_empresas*port_ejemplo-np.mean(tv.cetes_28.iloc[-30])"
   ]
  },
  {
   "cell_type": "code",
   "execution_count": 72,
   "metadata": {},
   "outputs": [
    {
     "data": {
      "text/plain": [
       "array([-0.03844737, -0.05321082, -0.0521883 , -0.05004089, -0.0545486 ,\n",
       "       -0.04647782, -0.04995571, -0.05461853, -0.04618915, -0.06769116,\n",
       "       -0.0309303 , -0.00172207, -0.05394445, -0.05520863,  0.04285948,\n",
       "       -0.05180078, -0.05420744, -0.04606694, -0.05466153, -0.05334935])"
      ]
     },
     "execution_count": 72,
     "metadata": {},
     "output_type": "execute_result"
    }
   ],
   "source": [
    "rend_exceso"
   ]
  },
  {
   "cell_type": "code",
   "execution_count": 66,
   "metadata": {},
   "outputs": [],
   "source": [
    "Rend_Exces=rend_exceso\n",
    "MVC=my_portfolio.MVC\n",
    "V_vector=np.linalg.inv(MVC)@Rend_Exces\n",
    "W_tan=V_vector/V_vector.sum()\n"
   ]
  },
  {
   "cell_type": "code",
   "execution_count": 67,
   "metadata": {},
   "outputs": [
    {
     "data": {
      "text/plain": [
       "array([ 0.02487349,  0.31751578, -0.23586759,  0.07562907,  0.30898086,\n",
       "       -0.07126182, -0.27532105,  0.35362079, -0.20260976,  0.10315465,\n",
       "        0.36517176, -0.36732309,  0.35839716, -0.02435218, -0.36990012,\n",
       "        0.43560569,  0.455875  , -0.21126524, -0.03484224, -0.00608115])"
      ]
     },
     "execution_count": 67,
     "metadata": {},
     "output_type": "execute_result"
    }
   ],
   "source": [
    "W_tan"
   ]
  },
  {
   "cell_type": "code",
   "execution_count": 54,
   "metadata": {
    "collapsed": true
   },
   "outputs": [
    {
     "data": {
      "text/plain": [
       "11"
      ]
     },
     "execution_count": 54,
     "metadata": {},
     "output_type": "execute_result"
    }
   ],
   "source": [
    "sum(W_tan>0)"
   ]
  },
  {
   "cell_type": "code",
   "execution_count": 74,
   "metadata": {
    "scrolled": true
   },
   "outputs": [
    {
     "data": {
      "text/plain": [
       "0.060899999999999996"
      ]
     },
     "execution_count": 74,
     "metadata": {},
     "output_type": "execute_result"
    }
   ],
   "source": [
    "np.mean(tv.cetes_28.iloc[-31])"
   ]
  },
  {
   "cell_type": "code",
   "execution_count": 2,
   "metadata": {},
   "outputs": [],
   "source": [
    "import numpy as np"
   ]
  },
  {
   "cell_type": "code",
   "execution_count": 3,
   "metadata": {},
   "outputs": [],
   "source": [
    "import yfinance as yf"
   ]
  },
  {
   "cell_type": "code",
   "execution_count": 13,
   "metadata": {},
   "outputs": [],
   "source": [
    "simbolos=list(symbols[:15])"
   ]
  },
  {
   "cell_type": "code",
   "execution_count": 40,
   "metadata": {},
   "outputs": [
    {
     "data": {
      "text/plain": [
       "1.0"
      ]
     },
     "execution_count": 40,
     "metadata": {},
     "output_type": "execute_result"
    }
   ],
   "source": [
    "pf_example=np.random.random(15)\n",
    "pf_example=pf_example/sum(pf_example)\n",
    "sum(pf_example)"
   ]
  },
  {
   "cell_type": "code",
   "execution_count": 53,
   "metadata": {},
   "outputs": [
    {
     "data": {
      "text/plain": [
       "[1000,\n",
       " 1000,\n",
       " 1000,\n",
       " 1000,\n",
       " 1000,\n",
       " 1000,\n",
       " 1000,\n",
       " 1000,\n",
       " 1000,\n",
       " 1000,\n",
       " 1000,\n",
       " 1000,\n",
       " 1000,\n",
       " 1000,\n",
       " 1000]"
      ]
     },
     "execution_count": 53,
     "metadata": {},
     "output_type": "execute_result"
    }
   ],
   "source": [
    "monto_incial=1_000\n",
    "monto=monto_incial*lst_prices\n",
    "acciones=[int(a) for a in monto/lst_prices]\n",
    "acciones"
   ]
  },
  {
   "cell_type": "code",
   "execution_count": 54,
   "metadata": {},
   "outputs": [],
   "source": [
    "matrix=np.array([[2,7,1],[9,3,5],[10,6,2]]).reshape(3,3)"
   ]
  },
  {
   "cell_type": "code",
   "execution_count": 56,
   "metadata": {},
   "outputs": [
    {
     "data": {
      "text/plain": [
       "200.0000000000001"
      ]
     },
     "execution_count": 56,
     "metadata": {},
     "output_type": "execute_result"
    }
   ],
   "source": [
    "np.linalg.det(matrix)"
   ]
  },
  {
   "cell_type": "code",
   "execution_count": null,
   "metadata": {},
   "outputs": [],
   "source": []
  }
 ],
 "metadata": {
  "kernelspec": {
   "display_name": "Python 3",
   "language": "python",
   "name": "python3"
  },
  "language_info": {
   "codemirror_mode": {
    "name": "ipython",
    "version": 3
   },
   "file_extension": ".py",
   "mimetype": "text/x-python",
   "name": "python",
   "nbconvert_exporter": "python",
   "pygments_lexer": "ipython3",
   "version": "3.7.0"
  }
 },
 "nbformat": 4,
 "nbformat_minor": 2
}
