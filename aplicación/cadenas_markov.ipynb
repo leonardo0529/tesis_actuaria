{
 "cells": [
  {
   "cell_type": "code",
   "execution_count": 1,
   "metadata": {},
   "outputs": [],
   "source": [
    "import pandas as pd\n",
    "import yfinance as yf\n",
    "import numpy as np"
   ]
  },
  {
   "cell_type": "code",
   "execution_count": 2,
   "metadata": {},
   "outputs": [],
   "source": [
    "def rendimientos(com):return np.diff(np.log(com))*100"
   ]
  },
  {
   "cell_type": "code",
   "execution_count": 3,
   "metadata": {},
   "outputs": [],
   "source": [
    "cierre=list(yf.download('AAPL.MX',start='2019-1-1',progress=0)['Close'])\n",
    "returns=rendimientos(cierre)"
   ]
  },
  {
   "cell_type": "code",
   "execution_count": 4,
   "metadata": {},
   "outputs": [
    {
     "data": {
      "text/plain": [
       "(-0.8619407068964025, 0.08624535421524193, 1.229633390001661)"
      ]
     },
     "execution_count": 4,
     "metadata": {},
     "output_type": "execute_result"
    }
   ],
   "source": [
    "c1,c2,c3=np.quantile(returns,[0.25,0.5,0.75])\n",
    "c1,c2,c3"
   ]
  },
  {
   "cell_type": "markdown",
   "metadata": {},
   "source": [
    "# Probabilidad de transicción en cada estado \n",
    "\n",
    "$$p_{ij}=\\frac{n_{ij}}{\\sum_{j}n_{ij}}$$\n",
    "\n",
    "### Estados\n",
    "\n",
    "$$r \\in S_{1} \\rightarrow  r\\leq C_{1}$$\n",
    "\n",
    "$$r \\in S_{2} \\rightarrow  C_{1}<r\\leq C_{2}$$\n",
    "\n",
    "$$r \\in  S_{3} \\rightarrow  C_{2}<r\\leq C_{3}$$\n",
    "\n",
    "$$r \\in S_{4} \\rightarrow  C_{3}<r$$\n"
   ]
  },
  {
   "cell_type": "code",
   "execution_count": 5,
   "metadata": {},
   "outputs": [],
   "source": [
    "def status_rend(rendimiento):return \"1\" if rendimiento<=c1 else \"2\" if rendimiento<=c2 else \"3\" if rendimiento<=c3 else \"4\""
   ]
  },
  {
   "cell_type": "code",
   "execution_count": 6,
   "metadata": {},
   "outputs": [],
   "source": [
    "stat_ren=list(map(status_rend,returns))\n",
    "cambios=[stat_ren[i]+stat_ren[i+1] for i in range(len(stat_ren)-1)]"
   ]
  },
  {
   "cell_type": "code",
   "execution_count": 7,
   "metadata": {},
   "outputs": [
    {
     "data": {
      "text/html": [
       "<div>\n",
       "<style scoped>\n",
       "    .dataframe tbody tr th:only-of-type {\n",
       "        vertical-align: middle;\n",
       "    }\n",
       "\n",
       "    .dataframe tbody tr th {\n",
       "        vertical-align: top;\n",
       "    }\n",
       "\n",
       "    .dataframe thead th {\n",
       "        text-align: right;\n",
       "    }\n",
       "</style>\n",
       "<table border=\"1\" class=\"dataframe\">\n",
       "  <thead>\n",
       "    <tr style=\"text-align: right;\">\n",
       "      <th>Estado Final</th>\n",
       "      <th>1</th>\n",
       "      <th>2</th>\n",
       "      <th>3</th>\n",
       "      <th>4</th>\n",
       "    </tr>\n",
       "    <tr>\n",
       "      <th>Estado Inicial</th>\n",
       "      <th></th>\n",
       "      <th></th>\n",
       "      <th></th>\n",
       "      <th></th>\n",
       "    </tr>\n",
       "  </thead>\n",
       "  <tbody>\n",
       "    <tr>\n",
       "      <th>1</th>\n",
       "      <td>0.064963</td>\n",
       "      <td>0.061768</td>\n",
       "      <td>0.046858</td>\n",
       "      <td>0.075612</td>\n",
       "    </tr>\n",
       "    <tr>\n",
       "      <th>2</th>\n",
       "      <td>0.056443</td>\n",
       "      <td>0.057508</td>\n",
       "      <td>0.068158</td>\n",
       "      <td>0.068158</td>\n",
       "    </tr>\n",
       "    <tr>\n",
       "      <th>3</th>\n",
       "      <td>0.059638</td>\n",
       "      <td>0.070288</td>\n",
       "      <td>0.073482</td>\n",
       "      <td>0.046858</td>\n",
       "    </tr>\n",
       "    <tr>\n",
       "      <th>4</th>\n",
       "      <td>0.068158</td>\n",
       "      <td>0.060703</td>\n",
       "      <td>0.061768</td>\n",
       "      <td>0.059638</td>\n",
       "    </tr>\n",
       "  </tbody>\n",
       "</table>\n",
       "</div>"
      ],
      "text/plain": [
       "Estado Final           1         2         3         4\n",
       "Estado Inicial                                        \n",
       "1               0.064963  0.061768  0.046858  0.075612\n",
       "2               0.056443  0.057508  0.068158  0.068158\n",
       "3               0.059638  0.070288  0.073482  0.046858\n",
       "4               0.068158  0.060703  0.061768  0.059638"
      ]
     },
     "execution_count": 7,
     "metadata": {},
     "output_type": "execute_result"
    }
   ],
   "source": [
    "matrix=[cambios.count(str(i)+str(j))/len(cambios) for i in range(1,5) for j in range(1,5)]\n",
    "cadena_markov=pd.DataFrame(np.array(matrix).reshape(4,4),columns=[1,2,3,4],index=[1,2,3,4])\n",
    "cadena_markov.index.name='Estado Inicial'\n",
    "cadena_markov.columns.name='Estado Final'\n",
    "cadena_markov"
   ]
  }
 ],
 "metadata": {
  "kernelspec": {
   "display_name": "Python 3",
   "language": "python",
   "name": "python3"
  },
  "language_info": {
   "codemirror_mode": {
    "name": "ipython",
    "version": 3
   },
   "file_extension": ".py",
   "mimetype": "text/x-python",
   "name": "python",
   "nbconvert_exporter": "python",
   "pygments_lexer": "ipython3",
   "version": "3.7.0"
  }
 },
 "nbformat": 4,
 "nbformat_minor": 2
}
