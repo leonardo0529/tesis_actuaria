{
 "cells": [
  {
   "cell_type": "code",
   "execution_count": 1,
   "metadata": {},
   "outputs": [],
   "source": [
    "import pandas as pd\n",
    "import yfinance as yf\n",
    "import numpy as np"
   ]
  },
  {
   "cell_type": "code",
   "execution_count": 2,
   "metadata": {},
   "outputs": [],
   "source": [
    "symbols=pd.read_excel('data_final.xlsx')['symbol']"
   ]
  },
  {
   "cell_type": "markdown",
   "metadata": {},
   "source": [
    "# Probabilidad de transicción en cada estado \n",
    "\n",
    "$$p_{ij}=\\frac{n_{ij}}{\\sum_{j}n_{ij}}$$\n",
    "\n",
    "### Estados\n",
    "\n",
    "$$r \\in S_{1} \\rightarrow  r\\leq C_{1}$$\n",
    "\n",
    "$$r \\in S_{2} \\rightarrow  C_{1}<r\\leq C_{2}$$\n",
    "\n",
    "$$r \\in  S_{3} \\rightarrow  C_{2}<r\\leq C_{3}$$\n",
    "\n",
    "$$r \\in S_{4} \\rightarrow  C_{3}<r$$\n"
   ]
  },
  {
   "cell_type": "code",
   "execution_count": 3,
   "metadata": {},
   "outputs": [],
   "source": [
    "def cadena_markov_t(symbol):\n",
    "    def rendimientos(com):return np.diff(np.log(com))*100\n",
    "    cierre=list(yf.download(symbol,start='2019-1-1',progress=0)['Close'])\n",
    "    returns=rendimientos(cierre)\n",
    "    c1,c2,c3=np.quantile(returns,[0.25,0.5,0.75])\n",
    "    def status_rend(rendimiento):return \"1\" if rendimiento<=c1 else \"2\" if rendimiento<=c2 else \"3\" if rendimiento<=c3 else \"4\"\n",
    "    stat_ren=list(map(status_rend,returns))\n",
    "    cambios=[stat_ren[i]+stat_ren[i+1] for i in range(len(stat_ren)-1)]\n",
    "    num_estados=[stat_ren.count(str(i)) for i in range(1,5)]\n",
    "    matrix=[cambios.count(str(i)+str(j))/num_estados[i-1]  if num_estados[i-1]>0 else 0 for i in range(1,5) for j in range(1,5)]\n",
    "    matrix=[round(m,2) for m in matrix]\n",
    "    cadena_markov=pd.DataFrame(np.array(matrix).reshape(4,4),columns=[1,2,3,4],index=[1,2,3,4])\n",
    "    cadena_markov.index.name='Estado Inicial'\n",
    "    cadena_markov.columns.name='Estado Final'\n",
    "    last_status_rend=int(stat_ren[-1])-1\n",
    "    vector=list(np.array(cadena_markov)[last_status_rend])\n",
    "    return cadena_markov,last_status_rend+1,vector.index(max(vector))+1"
   ]
  },
  {
   "cell_type": "code",
   "execution_count": 4,
   "metadata": {},
   "outputs": [],
   "source": [
    "matrices=list(map(cadena_markov_t,symbols))"
   ]
  },
  {
   "cell_type": "code",
   "execution_count": 5,
   "metadata": {},
   "outputs": [
    {
     "data": {
      "text/plain": [
       "(Estado Final       1     2     3     4\n",
       " Estado Inicial                        \n",
       " 1               0.26  0.25  0.19  0.31\n",
       " 2               0.23  0.23  0.27  0.27\n",
       " 3               0.24  0.28  0.29  0.19\n",
       " 4               0.27  0.24  0.25  0.24, 3, 3)"
      ]
     },
     "execution_count": 5,
     "metadata": {},
     "output_type": "execute_result"
    }
   ],
   "source": [
    "# Matriz de transición de cada estado, \n",
    "#estado del ultimo rendimiento, estado con mayor prob de transicción\n",
    "matrices[0]"
   ]
  }
 ],
 "metadata": {
  "kernelspec": {
   "display_name": "Python 3",
   "language": "python",
   "name": "python3"
  },
  "language_info": {
   "codemirror_mode": {
    "name": "ipython",
    "version": 3
   },
   "file_extension": ".py",
   "mimetype": "text/x-python",
   "name": "python",
   "nbconvert_exporter": "python",
   "pygments_lexer": "ipython3",
   "version": "3.7.0"
  }
 },
 "nbformat": 4,
 "nbformat_minor": 2
}
