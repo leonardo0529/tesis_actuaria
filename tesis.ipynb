{
 "cells": [
  {
   "cell_type": "code",
   "execution_count": 1,
   "metadata": {},
   "outputs": [],
   "source": [
    "# from selenium import webdriver \n",
    "# from selenium.webdriver.common.by import By\n",
    "import pandas as pd\n",
    "import plotly.graph_objects as go\n",
    "import plotly.express as px\n",
    "import time as tm\n",
    "import os\n",
    "import matplotlib.pyplot as plt\n",
    "import yfinance as yf\n",
    "import numpy as np\n",
    "from math import log "
   ]
  },
  {
   "cell_type": "markdown",
   "metadata": {},
   "source": [
    "# Nombres de las compañias"
   ]
  },
  {
   "cell_type": "code",
   "execution_count": 2,
   "metadata": {},
   "outputs": [],
   "source": [
    "companys=pd.read_excel('compañias_bmv.xlsx')\n",
    "symbols=list(companys['Symbol'])\n",
    "names=list(companys['Company'])\n",
    "names=[name[:-1] if  name.endswith('.') else name for name in names ]\n",
    "# sorted(names)"
   ]
  },
  {
   "cell_type": "code",
   "execution_count": 7,
   "metadata": {},
   "outputs": [
    {
     "data": {
      "text/html": [
       "<div>\n",
       "<style scoped>\n",
       "    .dataframe tbody tr th:only-of-type {\n",
       "        vertical-align: middle;\n",
       "    }\n",
       "\n",
       "    .dataframe tbody tr th {\n",
       "        vertical-align: top;\n",
       "    }\n",
       "\n",
       "    .dataframe thead th {\n",
       "        text-align: right;\n",
       "    }\n",
       "</style>\n",
       "<table border=\"1\" class=\"dataframe\">\n",
       "  <thead>\n",
       "    <tr style=\"text-align: right;\">\n",
       "      <th></th>\n",
       "      <th>Symbol</th>\n",
       "      <th>Company</th>\n",
       "    </tr>\n",
       "  </thead>\n",
       "  <tbody>\n",
       "    <tr>\n",
       "      <th>0</th>\n",
       "      <td>DDD.MX</td>\n",
       "      <td>3D Systems Corporation</td>\n",
       "    </tr>\n",
       "    <tr>\n",
       "      <th>1</th>\n",
       "      <td>MMM.MX</td>\n",
       "      <td>3M Company</td>\n",
       "    </tr>\n",
       "    <tr>\n",
       "      <th>2</th>\n",
       "      <td>AGNC.MX</td>\n",
       "      <td>AGNC Investment Corp.</td>\n",
       "    </tr>\n",
       "    <tr>\n",
       "      <th>3</th>\n",
       "      <td>ALPEKA.MX</td>\n",
       "      <td>ALPEK, S.A.B. de C.V.</td>\n",
       "    </tr>\n",
       "    <tr>\n",
       "      <th>4</th>\n",
       "      <td>APE.MX</td>\n",
       "      <td>AMC ENTERTAINMENT HOLDINGS INC</td>\n",
       "    </tr>\n",
       "    <tr>\n",
       "      <th>...</th>\n",
       "      <td>...</td>\n",
       "      <td>...</td>\n",
       "    </tr>\n",
       "    <tr>\n",
       "      <th>501</th>\n",
       "      <td>ZM.MX</td>\n",
       "      <td>Zoom Video Communications, Inc.</td>\n",
       "    </tr>\n",
       "    <tr>\n",
       "      <th>502</th>\n",
       "      <td>BLUE.MX</td>\n",
       "      <td>bluebird bio, Inc.</td>\n",
       "    </tr>\n",
       "    <tr>\n",
       "      <th>503</th>\n",
       "      <td>EBAY.MX</td>\n",
       "      <td>eBay Inc.</td>\n",
       "    </tr>\n",
       "    <tr>\n",
       "      <th>504</th>\n",
       "      <td>EXPI.MX</td>\n",
       "      <td>eXp World Holdings, Inc.</td>\n",
       "    </tr>\n",
       "    <tr>\n",
       "      <th>505</th>\n",
       "      <td>FUBO.MX</td>\n",
       "      <td>fuboTV Inc.</td>\n",
       "    </tr>\n",
       "  </tbody>\n",
       "</table>\n",
       "<p>506 rows × 2 columns</p>\n",
       "</div>"
      ],
      "text/plain": [
       "        Symbol                          Company\n",
       "0       DDD.MX           3D Systems Corporation\n",
       "1       MMM.MX                       3M Company\n",
       "2      AGNC.MX            AGNC Investment Corp.\n",
       "3    ALPEKA.MX            ALPEK, S.A.B. de C.V.\n",
       "4       APE.MX   AMC ENTERTAINMENT HOLDINGS INC\n",
       "..         ...                              ...\n",
       "501      ZM.MX  Zoom Video Communications, Inc.\n",
       "502    BLUE.MX               bluebird bio, Inc.\n",
       "503    EBAY.MX                        eBay Inc.\n",
       "504    EXPI.MX         eXp World Holdings, Inc.\n",
       "505    FUBO.MX                      fuboTV Inc.\n",
       "\n",
       "[506 rows x 2 columns]"
      ]
     },
     "execution_count": 7,
     "metadata": {},
     "output_type": "execute_result"
    }
   ],
   "source": [
    "companys"
   ]
  },
  {
   "cell_type": "markdown",
   "metadata": {},
   "source": [
    "# Trayendo la información de  yahoo finance"
   ]
  },
  {
   "cell_type": "code",
   "execution_count": 8,
   "metadata": {},
   "outputs": [],
   "source": [
    "def get_info_compamys(*ncompanys,**kwargs):\n",
    "    nsymbs=[  symbols[names.index(com)]  if com not in symbols  else com for com in ncompanys]\n",
    "    today=tm.localtime()\n",
    "    today='-'.join([str(i) for i in list(today)[:3]])\n",
    "    last_year=str(int(today[:4])-1)+today[4:]\n",
    "    data = yf.download(tickers=sorted(nsymbs), start=last_year, end=today)\n",
    "    def rendimiento(comp):return [log(comp[i]/comp[i-1]) for i in range(1,len(comp))]\n",
    "    cols=list(data.Close)\n",
    "    dates=list(str(i).split()[0] for i in data.index)\n",
    "    df_rend=pd.DataFrame([rendimiento(list(data.Close[c])) for c in cols]).T\n",
    "    df_rend.columns=cols\n",
    "    monto=kwargs['monto_invertir']\n",
    "    return df_rend"
   ]
  },
  {
   "cell_type": "code",
   "execution_count": 36,
   "metadata": {},
   "outputs": [
    {
     "name": "stdout",
     "output_type": "stream",
     "text": [
      "[*********************100%***********************]  6 of 6 completed\n"
     ]
    },
    {
     "data": {
      "text/plain": [
       "(     BIMBOA.MX  CEMEXCPO.MX  GCARSOA1.MX  KIMBERA.MX  TLEVISACPO.MX    WMT.MX\n",
       " 0    -0.003351    -0.017732    -0.043560   -0.031794      -0.032053 -0.006244\n",
       " 1    -0.005544    -0.003089    -0.015729    0.005514       0.005834  0.003886\n",
       " 2    -0.019243    -0.003099     0.014964   -0.010182      -0.029518  0.003367\n",
       " 3     0.011270     0.003717     0.038007   -0.010878       0.008353  0.000000\n",
       " 4    -0.010461    -0.024414    -0.000442    0.001182       0.003361 -0.012835\n",
       " ..         ...          ...          ...         ...            ...       ...\n",
       " 248  -0.002039    -0.018062    -0.008308    0.006868      -0.001466  0.004284\n",
       " 249   0.001495     0.016868     0.013416   -0.025753       0.014205  0.005823\n",
       " 250  -0.002857    -0.041469    -0.006949   -0.017204      -0.012373 -0.020805\n",
       " 251  -0.031415    -0.026500    -0.023966   -0.040624      -0.024839  0.003766\n",
       " 252  -0.023614    -0.014166    -0.020558   -0.019682      -0.019330  0.008650\n",
       " \n",
       " [253 rows x 6 columns], 100)"
      ]
     },
     "execution_count": 36,
     "metadata": {},
     "output_type": "execute_result"
    }
   ],
   "source": [
    "Datos=get_info_compamys( 'Grupo Bimbo, S.A.B. de C.V',\n",
    "                       'Grupo Televisa, S.A.B',\n",
    "                        'WMT.MX',\n",
    "                        'Kimberly-Clark de México, S. A. B. de C. V',\n",
    "                        'Grupo Carso, S.A.B. de C.V', 'CEMEX, S.A.B. de C.V',monto_invertir=100)\n",
    "Datos"
   ]
  },
  {
   "cell_type": "code",
   "execution_count": 64,
   "metadata": {},
   "outputs": [
    {
     "name": "stdout",
     "output_type": "stream",
     "text": [
      "[*********************100%***********************]  506 of 506 completed\n"
     ]
    },
    {
     "data": {
      "text/plain": [
       "[2961.510009765625,\n",
       " 429.95001220703125,\n",
       " 1010.0,\n",
       " 265.0,\n",
       " 3181.389892578125,\n",
       " 4.449999809265137,\n",
       " 2708.0400390625,\n",
       " 60.0,\n",
       " 2278.0,\n",
       " 2050.0,\n",
       " 137.14999389648438,\n",
       " 181.50999450683594,\n",
       " 1608.0,\n",
       " 12.300000190734863,\n",
       " 7526.0,\n",
       " 3119.659912109375,\n",
       " 1760.0,\n",
       " 2090.0,\n",
       " 199.99000549316406,\n",
       " 497.30999755859375]"
      ]
     },
     "execution_count": 64,
     "metadata": {},
     "output_type": "execute_result"
    }
   ],
   "source": [
    "def last_price(lista_tickers):\n",
    "    ticker_yahoo = yf.download(lista_tickers,start='2022-08-30')\n",
    "    data = ticker_yahoo.Close.iloc[-2]\n",
    "    return list(data)\n",
    "last_prices=last_price(symbols)\n",
    "last_prices[:20]"
   ]
  },
  {
   "cell_type": "code",
   "execution_count": 47,
   "metadata": {},
   "outputs": [
    {
     "data": {
      "text/html": [
       "<div>\n",
       "<style scoped>\n",
       "    .dataframe tbody tr th:only-of-type {\n",
       "        vertical-align: middle;\n",
       "    }\n",
       "\n",
       "    .dataframe tbody tr th {\n",
       "        vertical-align: top;\n",
       "    }\n",
       "\n",
       "    .dataframe thead th {\n",
       "        text-align: right;\n",
       "    }\n",
       "</style>\n",
       "<table border=\"1\" class=\"dataframe\">\n",
       "  <thead>\n",
       "    <tr style=\"text-align: right;\">\n",
       "      <th></th>\n",
       "      <th>Compañia</th>\n",
       "      <th>Precio</th>\n",
       "    </tr>\n",
       "  </thead>\n",
       "  <tbody>\n",
       "    <tr>\n",
       "      <th>0</th>\n",
       "      <td>3D Systems Corporation</td>\n",
       "      <td>2961.51</td>\n",
       "    </tr>\n",
       "    <tr>\n",
       "      <th>1</th>\n",
       "      <td>3M Company</td>\n",
       "      <td>429.95</td>\n",
       "    </tr>\n",
       "    <tr>\n",
       "      <th>2</th>\n",
       "      <td>AGNC Investment Corp</td>\n",
       "      <td>1010.00</td>\n",
       "    </tr>\n",
       "    <tr>\n",
       "      <th>3</th>\n",
       "      <td>ALPEK, S.A.B. de C.V</td>\n",
       "      <td>265.00</td>\n",
       "    </tr>\n",
       "    <tr>\n",
       "      <th>4</th>\n",
       "      <td>AMC ENTERTAINMENT HOLDINGS INC</td>\n",
       "      <td>3181.39</td>\n",
       "    </tr>\n",
       "    <tr>\n",
       "      <th>...</th>\n",
       "      <td>...</td>\n",
       "      <td>...</td>\n",
       "    </tr>\n",
       "    <tr>\n",
       "      <th>501</th>\n",
       "      <td>Zoom Video Communications, Inc</td>\n",
       "      <td>111.00</td>\n",
       "    </tr>\n",
       "    <tr>\n",
       "      <th>502</th>\n",
       "      <td>bluebird bio, Inc</td>\n",
       "      <td>999.57</td>\n",
       "    </tr>\n",
       "    <tr>\n",
       "      <th>503</th>\n",
       "      <td>eBay Inc</td>\n",
       "      <td>2210.46</td>\n",
       "    </tr>\n",
       "    <tr>\n",
       "      <th>504</th>\n",
       "      <td>eXp World Holdings, Inc</td>\n",
       "      <td>1530.00</td>\n",
       "    </tr>\n",
       "    <tr>\n",
       "      <th>505</th>\n",
       "      <td>fuboTV Inc</td>\n",
       "      <td>1619.50</td>\n",
       "    </tr>\n",
       "  </tbody>\n",
       "</table>\n",
       "<p>506 rows × 2 columns</p>\n",
       "</div>"
      ],
      "text/plain": [
       "                           Compañia   Precio\n",
       "0            3D Systems Corporation  2961.51\n",
       "1                        3M Company   429.95\n",
       "2              AGNC Investment Corp  1010.00\n",
       "3              ALPEK, S.A.B. de C.V   265.00\n",
       "4    AMC ENTERTAINMENT HOLDINGS INC  3181.39\n",
       "..                              ...      ...\n",
       "501  Zoom Video Communications, Inc   111.00\n",
       "502               bluebird bio, Inc   999.57\n",
       "503                        eBay Inc  2210.46\n",
       "504         eXp World Holdings, Inc  1530.00\n",
       "505                      fuboTV Inc  1619.50\n",
       "\n",
       "[506 rows x 2 columns]"
      ]
     },
     "execution_count": 47,
     "metadata": {},
     "output_type": "execute_result"
    }
   ],
   "source": [
    "df_last_prices=pd.DataFrame([(com,round(lp,2)) for com, lp in zip(names,last_prices)])\n",
    "df_last_prices.columns=['Compañia','Precio']\n",
    "df_last_prices\n"
   ]
  },
  {
   "cell_type": "code",
   "execution_count": null,
   "metadata": {},
   "outputs": [],
   "source": []
  }
 ],
 "metadata": {
  "kernelspec": {
   "display_name": "Python 3",
   "language": "python",
   "name": "python3"
  },
  "language_info": {
   "codemirror_mode": {
    "name": "ipython",
    "version": 3
   },
   "file_extension": ".py",
   "mimetype": "text/x-python",
   "name": "python",
   "nbconvert_exporter": "python",
   "pygments_lexer": "ipython3",
   "version": "3.7.0"
  }
 },
 "nbformat": 4,
 "nbformat_minor": 2
}
